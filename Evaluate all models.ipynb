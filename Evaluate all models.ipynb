{
 "cells": [
  {
   "cell_type": "code",
   "execution_count": 2,
   "id": "cb022c8c-5022-40a8-9cd6-84437598966e",
   "metadata": {
    "tags": []
   },
   "outputs": [
    {
     "name": "stdout",
     "output_type": "stream",
     "text": [
      "Tue Aug 22 10:31:09 2023       \n",
      "+-----------------------------------------------------------------------------+\n",
      "| NVIDIA-SMI 470.57.02    Driver Version: 470.57.02    CUDA Version: 11.4     |\n",
      "|-------------------------------+----------------------+----------------------+\n",
      "| GPU  Name        Persistence-M| Bus-Id        Disp.A | Volatile Uncorr. ECC |\n",
      "| Fan  Temp  Perf  Pwr:Usage/Cap|         Memory-Usage | GPU-Util  Compute M. |\n",
      "|                               |                      |               MIG M. |\n",
      "|===============================+======================+======================|\n",
      "|   0  Tesla V100-SXM2...  Off  | 00000000:00:1E.0 Off |                    0 |\n",
      "| N/A   40C    P0    37W / 300W |      0MiB / 16160MiB |      2%      Default |\n",
      "|                               |                      |                  N/A |\n",
      "+-------------------------------+----------------------+----------------------+\n",
      "                                                                               \n",
      "+-----------------------------------------------------------------------------+\n",
      "| Processes:                                                                  |\n",
      "|  GPU   GI   CI        PID   Type   Process name                  GPU Memory |\n",
      "|        ID   ID                                                   Usage      |\n",
      "|=============================================================================|\n",
      "|  No running processes found                                                 |\n",
      "+-----------------------------------------------------------------------------+\n"
     ]
    }
   ],
   "source": [
    "# Check instance GPUs\n",
    "!nvidia-smi"
   ]
  },
  {
   "cell_type": "code",
   "execution_count": 3,
   "id": "ae24d877-25da-4243-add6-fc462b93b1f0",
   "metadata": {
    "tags": []
   },
   "outputs": [
    {
     "name": "stdout",
     "output_type": "stream",
     "text": [
      "\u001b[33mWARNING: Running pip as the 'root' user can result in broken permissions and conflicting behaviour with the system package manager. It is recommended to use a virtual environment instead: https://pip.pypa.io/warnings/venv\u001b[0m\u001b[33m\n",
      "\u001b[0mNote: you may need to restart the kernel to use updated packages.\n",
      "\u001b[33mWARNING: Running pip as the 'root' user can result in broken permissions and conflicting behaviour with the system package manager. It is recommended to use a virtual environment instead: https://pip.pypa.io/warnings/venv\u001b[0m\u001b[33m\n",
      "\u001b[0mNote: you may need to restart the kernel to use updated packages.\n",
      "\u001b[33mWARNING: Running pip as the 'root' user can result in broken permissions and conflicting behaviour with the system package manager. It is recommended to use a virtual environment instead: https://pip.pypa.io/warnings/venv\u001b[0m\u001b[33m\n",
      "\u001b[0mNote: you may need to restart the kernel to use updated packages.\n"
     ]
    }
   ],
   "source": [
    "# Install required libraries\n",
    "%pip install -q huggingface_hub\n",
    "%pip install -q -U trl transformers accelerate einops\n",
    "%pip install -q -U datasets evaluate xformers sentencepiece"
   ]
  },
  {
   "cell_type": "code",
   "execution_count": 4,
   "id": "66341402-ef1a-4161-81d7-200abbe15bc5",
   "metadata": {
    "tags": []
   },
   "outputs": [
    {
     "name": "stderr",
     "output_type": "stream",
     "text": [
      "/opt/conda/lib/python3.10/site-packages/scipy/__init__.py:155: UserWarning: A NumPy version >=1.18.5 and <1.25.0 is required for this version of SciPy (detected version 1.25.1\n",
      "  warnings.warn(f\"A NumPy version >={np_minversion} and <{np_maxversion}\"\n"
     ]
    }
   ],
   "source": [
    "# Import libraries\n",
    "import evaluate\n",
    "from datasets import load_dataset\n",
    "from evaluate import evaluator\n",
    "from transformers import AutoModelForSequenceClassification, pipeline\n",
    "import pandas as pd\n",
    "import evaluate\n",
    "from evaluate.visualization import radar_plot\n",
    "\n",
    "# Load dataset\n",
    "dataset = load_dataset(\"financial_phrasebank\",\"sentences_50agree\", split='train')\n",
    "# Select test dataset (20%)\n",
    "data = dataset.select([i for i in list(range(3873,4841))])"
   ]
  },
  {
   "cell_type": "code",
   "execution_count": 5,
   "id": "359808b0-a16e-4c73-8a25-51f62b91a2de",
   "metadata": {},
   "outputs": [],
   "source": [
    "# Create Task for Text Classification\n",
    "task_evaluator = evaluator(\"text-classification\")"
   ]
  },
  {
   "cell_type": "code",
   "execution_count": 6,
   "id": "7d526cc5-0a6b-41cf-b250-18903766e65b",
   "metadata": {},
   "outputs": [],
   "source": [
    "# # Create a custom subclass of TextClassificationEvaluator\n",
    "# class CustomTextClassificationEvaluator(evaluator(task=\"text-classification\").__class__):\n",
    "#     METRIC_KWARGS = {\"average\": \"macro\"}\n",
    "    \n",
    "# # Instantiate the custom evaluator\n",
    "# task_evaluator = CustomTextClassificationEvaluator()"
   ]
  },
  {
   "cell_type": "code",
   "execution_count": 7,
   "id": "c4de0253-7159-49eb-aac5-f6b7149cb029",
   "metadata": {},
   "outputs": [],
   "source": [
    "# Load the desired metrics\n",
    "accuracy_metric = evaluate.load('accuracy')\n",
    "# f1_metric = evaluate.load('f1', \"multilabel\")\n",
    "# recall_metric = evaluate.load('recall')\n",
    "# precision_metric = evaluate.load(\"precision\")\n",
    "# metrics = evaluate.combine([accuracy_metric, f1_metric, precision_metric, recall_metric])\n",
    "metrics = evaluate.combine([accuracy_metric])"
   ]
  },
  {
   "cell_type": "code",
   "execution_count": 8,
   "id": "200b1d83-5ded-4617-b307-5101bcd53baa",
   "metadata": {},
   "outputs": [],
   "source": [
    "# Result set\n",
    "results = []"
   ]
  },
  {
   "cell_type": "code",
   "execution_count": 9,
   "id": "0c791868-dc30-4144-b09e-1a030c7ff8ab",
   "metadata": {},
   "outputs": [],
   "source": [
    "# Model list\n",
    "models = [\n",
    "    \"distilbert-base-uncased\",\n",
    "    \"IngeniousArtist/distilbert-finance\",\n",
    "    \"yiyanghkust/finbert-tone\",\n",
    "    \"cardiffnlp/twitter-roberta-base-sentiment-latest\",\n",
    "    \"ProsusAI/finbert\",\n",
    "    \"stabilityai/stablelm-base-alpha-3b\",\n",
    "    \"IngeniousArtist/stablelm-3b-finance\",\n",
    "    \"CobraMamba/mamba-gpt-3b-v3\",\n",
    "    \"bigscience/bloom-3b\",\n",
    "    \"facebook/opt-2.7b\",\n",
    "    \"EleutherAI/gpt-neo-2.7B\",\n",
    "    \"openlm-research/open_llama_3b_v2\",\n",
    "]    "
   ]
  },
  {
   "cell_type": "code",
   "execution_count": 10,
   "id": "a8116cde-3455-4e9f-9b30-f1e54fe2242e",
   "metadata": {
    "tags": []
   },
   "outputs": [
    {
     "name": "stderr",
     "output_type": "stream",
     "text": [
      "Some weights of DistilBertForSequenceClassification were not initialized from the model checkpoint at distilbert-base-uncased and are newly initialized: ['pre_classifier.bias', 'pre_classifier.weight', 'classifier.bias', 'classifier.weight']\n",
      "You should probably TRAIN this model on a down-stream task to be able to use it for predictions and inference.\n"
     ]
    },
    {
     "name": "stdout",
     "output_type": "stream",
     "text": [
      "{'accuracy': 0.5175619834710744, 'total_time_in_seconds': 9.262308850000181, 'samples_per_second': 104.50957916394475, 'latency_in_seconds': 0.009568500878099361}\n"
     ]
    }
   ],
   "source": [
    "# distilbert-base-uncased\n",
    "\n",
    "eval_results = task_evaluator.compute(\n",
    "    model_or_pipeline=\"distilbert-base-uncased\",\n",
    "    input_column = \"sentence\",\n",
    "    label_column = \"label\",\n",
    "    data=data,\n",
    "    metric= metrics,\n",
    "    label_mapping={\"LABEL_0\": 0, \"LABEL_1\": 1, \"LABEL_2\": 2}\n",
    ")\n",
    "\n",
    "results.append(eval_results)\n",
    "print(eval_results)"
   ]
  },
  {
   "cell_type": "code",
   "execution_count": 11,
   "id": "b5b2f2b8-c27c-40df-831a-61c25aea5020",
   "metadata": {
    "tags": []
   },
   "outputs": [
    {
     "name": "stdout",
     "output_type": "stream",
     "text": [
      "{'accuracy': 0.7386363636363636, 'total_time_in_seconds': 6.485631668999986, 'samples_per_second': 149.25300254512527, 'latency_in_seconds': 0.006700032715909077}\n"
     ]
    }
   ],
   "source": [
    "# IngeniousArtist/distilbert-finance\n",
    "\n",
    "eval_results = task_evaluator.compute(\n",
    "    model_or_pipeline=\"IngeniousArtist/distilbert-finance\",\n",
    "    input_column = \"sentence\",\n",
    "    label_column = \"label\",\n",
    "    data=data,\n",
    "    metric=metrics,\n",
    "    label_mapping={\"Negative\": 0, \"Neutral\": 1, \"Positive\": 2}\n",
    ")\n",
    "\n",
    "results.append(eval_results)\n",
    "print(eval_results)"
   ]
  },
  {
   "cell_type": "code",
   "execution_count": 12,
   "id": "a98da199-331c-49df-8461-45354031292a",
   "metadata": {
    "tags": []
   },
   "outputs": [
    {
     "name": "stderr",
     "output_type": "stream",
     "text": [
      "Asking to truncate to max_length but no maximum length is provided and the model has no predefined maximum length. Default to no truncation.\n"
     ]
    },
    {
     "name": "stdout",
     "output_type": "stream",
     "text": [
      "{'accuracy': 0.7758264462809917, 'total_time_in_seconds': 11.124604541000053, 'samples_per_second': 87.01432904265566, 'latency_in_seconds': 0.011492360063016585}\n"
     ]
    }
   ],
   "source": [
    "# yiyanghkust/finbert-tone\n",
    "\n",
    "eval_results = task_evaluator.compute(\n",
    "    model_or_pipeline=\"yiyanghkust/finbert-tone\",\n",
    "    input_column = \"sentence\",\n",
    "    label_column = \"label\",\n",
    "    data=data,\n",
    "    metric=metrics,\n",
    "    label_mapping={\"Negative\": 0, \"Neutral\": 1, \"Positive\": 2}\n",
    ")\n",
    "\n",
    "results.append(eval_results)\n",
    "print(eval_results)"
   ]
  },
  {
   "cell_type": "code",
   "execution_count": 13,
   "id": "225ab39e-6b1c-470a-bb91-aa8a185fab97",
   "metadata": {},
   "outputs": [
    {
     "name": "stderr",
     "output_type": "stream",
     "text": [
      "Some weights of the model checkpoint at cardiffnlp/twitter-roberta-base-sentiment-latest were not used when initializing RobertaForSequenceClassification: ['roberta.pooler.dense.bias', 'roberta.pooler.dense.weight']\n",
      "- This IS expected if you are initializing RobertaForSequenceClassification from the checkpoint of a model trained on another task or with another architecture (e.g. initializing a BertForSequenceClassification model from a BertForPreTraining model).\n",
      "- This IS NOT expected if you are initializing RobertaForSequenceClassification from the checkpoint of a model that you expect to be exactly identical (initializing a BertForSequenceClassification model from a BertForSequenceClassification model).\n",
      "Asking to truncate to max_length but no maximum length is provided and the model has no predefined maximum length. Default to no truncation.\n"
     ]
    },
    {
     "name": "stdout",
     "output_type": "stream",
     "text": [
      "{'accuracy': 0.5919421487603306, 'total_time_in_seconds': 11.394608748999872, 'samples_per_second': 84.95245614159094, 'latency_in_seconds': 0.011771290029958545}\n"
     ]
    }
   ],
   "source": [
    "# cardiffnlp/twitter-roberta-base-sentiment-latest\n",
    "\n",
    "eval_results = task_evaluator.compute(\n",
    "    model_or_pipeline=\"cardiffnlp/twitter-roberta-base-sentiment-latest\",\n",
    "    input_column = \"sentence\",\n",
    "    label_column = \"label\",\n",
    "    data=data,\n",
    "    metric=metrics,\n",
    "    label_mapping={\"negative\": 0, \"neutral\": 1, \"positive\": 2}\n",
    ")\n",
    "\n",
    "results.append(eval_results)\n",
    "print(eval_results)"
   ]
  },
  {
   "cell_type": "code",
   "execution_count": 14,
   "id": "19e02bab-d383-4306-9e28-62429de88b7a",
   "metadata": {},
   "outputs": [
    {
     "name": "stdout",
     "output_type": "stream",
     "text": [
      "{'accuracy': 0.8853305785123967, 'total_time_in_seconds': 11.229223720000164, 'samples_per_second': 86.20364364777176, 'latency_in_seconds': 0.011600437727272896}\n"
     ]
    }
   ],
   "source": [
    "# ProsusAI/finbert\n",
    "\n",
    "eval_results = task_evaluator.compute(\n",
    "    model_or_pipeline=\"ProsusAI/finbert\",\n",
    "    input_column = \"sentence\",\n",
    "    label_column = \"label\",\n",
    "    data=data,\n",
    "    metric=metrics,\n",
    "    label_mapping={\"negative\": 0, \"neutral\": 1, \"positive\": 2}\n",
    ")\n",
    "\n",
    "results.append(eval_results)\n",
    "print(eval_results)"
   ]
  },
  {
   "cell_type": "code",
   "execution_count": 15,
   "id": "01e0596a-8db2-49c8-a588-72d61fbce38f",
   "metadata": {
    "tags": []
   },
   "outputs": [
    {
     "data": {
      "application/vnd.jupyter.widget-view+json": {
       "model_id": "94ab5b8bb80b4ccda62d9ea0b8fe2217",
       "version_major": 2,
       "version_minor": 0
      },
      "text/plain": [
       "Loading checkpoint shards:   0%|          | 0/2 [00:00<?, ?it/s]"
      ]
     },
     "metadata": {},
     "output_type": "display_data"
    },
    {
     "name": "stderr",
     "output_type": "stream",
     "text": [
      "Some weights of GPTNeoXForSequenceClassification were not initialized from the model checkpoint at stabilityai/stablelm-base-alpha-3b and are newly initialized: ['score.weight']\n",
      "You should probably TRAIN this model on a down-stream task to be able to use it for predictions and inference.\n",
      "Asking to truncate to max_length but no maximum length is provided and the model has no predefined maximum length. Default to no truncation.\n"
     ]
    },
    {
     "name": "stdout",
     "output_type": "stream",
     "text": [
      "{'accuracy': 0.3853305785123967, 'total_time_in_seconds': 53.11389849200009, 'samples_per_second': 18.224984937714527, 'latency_in_seconds': 0.05486972984710753}\n"
     ]
    }
   ],
   "source": [
    "# stabilityai/stablelm-base-alpha-3b\n",
    "\n",
    "eval_results = task_evaluator.compute(\n",
    "    model_or_pipeline=\"stabilityai/stablelm-base-alpha-3b\",\n",
    "    input_column = \"sentence\",\n",
    "    label_column = \"label\",\n",
    "    data=data,\n",
    "    metric=metrics,\n",
    "    label_mapping={\"LABEL_0\": 0, \"LABEL_1\": 1, \"LABEL_2\": 2}\n",
    ")\n",
    "\n",
    "results.append(eval_results)\n",
    "print(eval_results)"
   ]
  },
  {
   "cell_type": "code",
   "execution_count": 16,
   "id": "5a2f3667-4ff9-46b3-80be-6c930b3e16ca",
   "metadata": {},
   "outputs": [
    {
     "name": "stderr",
     "output_type": "stream",
     "text": [
      "Asking to truncate to max_length but no maximum length is provided and the model has no predefined maximum length. Default to no truncation.\n"
     ]
    },
    {
     "name": "stdout",
     "output_type": "stream",
     "text": [
      "{'accuracy': 0.08574380165289257, 'total_time_in_seconds': 46.64675497799999, 'samples_per_second': 20.751711463241932, 'latency_in_seconds': 0.04818879646487602}\n"
     ]
    }
   ],
   "source": [
    "# IngeniousArtist/stablelm-3b-finance\n",
    "\n",
    "eval_results = task_evaluator.compute(\n",
    "    model_or_pipeline=\"IngeniousArtist/stablelm-3b-finance\",\n",
    "    input_column = \"sentence\",\n",
    "    label_column = \"label\",\n",
    "    data=data,\n",
    "    metric= metrics,\n",
    "    label_mapping={\"Negative\": 0, \"Neutral\": 1, \"Positive\": 2}\n",
    ")\n",
    "\n",
    "results.append(eval_results)\n",
    "print(eval_results)"
   ]
  },
  {
   "cell_type": "code",
   "execution_count": 17,
   "id": "1777b187-d704-462e-9519-e034f3ac24a1",
   "metadata": {
    "tags": []
   },
   "outputs": [
    {
     "name": "stderr",
     "output_type": "stream",
     "text": [
      "Some weights of LlamaForSequenceClassification were not initialized from the model checkpoint at CobraMamba/mamba-gpt-3b-v3 and are newly initialized: ['score.weight']\n",
      "You should probably TRAIN this model on a down-stream task to be able to use it for predictions and inference.\n",
      "You are using the legacy behaviour of the <class 'transformers.models.llama.tokenization_llama.LlamaTokenizer'>. This means that tokens that come after special tokens will not be properly handled. We recommend you to read the related pull request available at https://github.com/huggingface/transformers/pull/24565\n"
     ]
    },
    {
     "name": "stdout",
     "output_type": "stream",
     "text": [
      "{'accuracy': 0.46384297520661155, 'total_time_in_seconds': 45.843731169999955, 'samples_per_second': 21.115209763586112, 'latency_in_seconds': 0.04735922641528921}\n"
     ]
    }
   ],
   "source": [
    "# CobraMamba/mamba-gpt-3b-v3\n",
    "\n",
    "eval_results = task_evaluator.compute(\n",
    "    model_or_pipeline=\"CobraMamba/mamba-gpt-3b-v3\",\n",
    "    input_column = \"sentence\",\n",
    "    label_column = \"label\",\n",
    "    data=data,\n",
    "    metric= metrics,\n",
    "    label_mapping={\"LABEL_0\": 0, \"LABEL_1\": 1, \"LABEL_2\": 2}\n",
    ")\n",
    "\n",
    "results.append(eval_results)\n",
    "print(eval_results)"
   ]
  },
  {
   "cell_type": "code",
   "execution_count": 18,
   "id": "f5939e80-a7d2-4ec8-b4e4-715ed9d7173b",
   "metadata": {
    "tags": []
   },
   "outputs": [
    {
     "name": "stderr",
     "output_type": "stream",
     "text": [
      "Some weights of BloomForSequenceClassification were not initialized from the model checkpoint at bigscience/bloom-3b and are newly initialized: ['score.weight']\n",
      "You should probably TRAIN this model on a down-stream task to be able to use it for predictions and inference.\n",
      "Asking to truncate to max_length but no maximum length is provided and the model has no predefined maximum length. Default to no truncation.\n"
     ]
    },
    {
     "name": "stdout",
     "output_type": "stream",
     "text": [
      "{'accuracy': 0.3822314049586777, 'total_time_in_seconds': 38.641203083999926, 'samples_per_second': 25.05097985421726, 'latency_in_seconds': 0.03991859822727265}\n"
     ]
    }
   ],
   "source": [
    "# bigscience/bloom-3b\n",
    "\n",
    "eval_results = task_evaluator.compute(\n",
    "    model_or_pipeline=\"bigscience/bloom-3b\",\n",
    "    input_column = \"sentence\",\n",
    "    label_column = \"label\",\n",
    "    data=data,\n",
    "    metric= metrics,\n",
    "    label_mapping={\"LABEL_0\": 0, \"LABEL_1\": 1, \"LABEL_2\": 2}\n",
    ")\n",
    "\n",
    "results.append(eval_results)\n",
    "print(eval_results)"
   ]
  },
  {
   "cell_type": "code",
   "execution_count": 19,
   "id": "c2ddccf7-7ad8-4812-a41a-fcc0e530e7a0",
   "metadata": {
    "tags": []
   },
   "outputs": [
    {
     "name": "stderr",
     "output_type": "stream",
     "text": [
      "Some weights of OPTForSequenceClassification were not initialized from the model checkpoint at facebook/opt-2.7b and are newly initialized: ['score.weight']\n",
      "You should probably TRAIN this model on a down-stream task to be able to use it for predictions and inference.\n",
      "Asking to truncate to max_length but no maximum length is provided and the model has no predefined maximum length. Default to no truncation.\n"
     ]
    },
    {
     "name": "stdout",
     "output_type": "stream",
     "text": [
      "{'accuracy': 0.4121900826446281, 'total_time_in_seconds': 39.33137891799993, 'samples_per_second': 24.611392395322216, 'latency_in_seconds': 0.04063158979132224}\n"
     ]
    }
   ],
   "source": [
    "# facebook/opt-2.7b\n",
    "\n",
    "eval_results = task_evaluator.compute(\n",
    "    model_or_pipeline=\"facebook/opt-2.7b\",\n",
    "    input_column = \"sentence\",\n",
    "    label_column = \"label\",\n",
    "    data=data,\n",
    "    metric= metrics,\n",
    "    label_mapping={\"LABEL_0\": 0, \"LABEL_1\": 1, \"LABEL_2\": 2}\n",
    ")\n",
    "\n",
    "results.append(eval_results)\n",
    "print(eval_results)"
   ]
  },
  {
   "cell_type": "code",
   "execution_count": 20,
   "id": "a27645cc-ddbc-4152-a177-238a036c8ad0",
   "metadata": {
    "tags": []
   },
   "outputs": [
    {
     "name": "stderr",
     "output_type": "stream",
     "text": [
      "Some weights of GPTNeoForSequenceClassification were not initialized from the model checkpoint at EleutherAI/gpt-neo-2.7B and are newly initialized: ['score.weight']\n",
      "You should probably TRAIN this model on a down-stream task to be able to use it for predictions and inference.\n"
     ]
    },
    {
     "name": "stdout",
     "output_type": "stream",
     "text": [
      "{'accuracy': 0.503099173553719, 'total_time_in_seconds': 42.37145705900002, 'samples_per_second': 22.845567917386248, 'latency_in_seconds': 0.043772166383264484}\n"
     ]
    }
   ],
   "source": [
    "# EleutherAI/gpt-neo-2.7B\n",
    "\n",
    "eval_results = task_evaluator.compute(\n",
    "    model_or_pipeline=\"EleutherAI/gpt-neo-2.7B\",\n",
    "    input_column = \"sentence\",\n",
    "    label_column = \"label\",\n",
    "    data=data,\n",
    "    metric= metrics,\n",
    "    label_mapping={\"LABEL_0\": 0, \"LABEL_1\": 1, \"LABEL_2\": 2}\n",
    ")\n",
    "\n",
    "results.append(eval_results)\n",
    "print(eval_results)"
   ]
  },
  {
   "cell_type": "code",
   "execution_count": 21,
   "id": "0c61d7ce-6fb4-488e-808e-375595faaf6e",
   "metadata": {
    "tags": []
   },
   "outputs": [
    {
     "name": "stderr",
     "output_type": "stream",
     "text": [
      "Some weights of LlamaForSequenceClassification were not initialized from the model checkpoint at openlm-research/open_llama_3b_v2 and are newly initialized: ['score.weight']\n",
      "You should probably TRAIN this model on a down-stream task to be able to use it for predictions and inference.\n"
     ]
    },
    {
     "name": "stdout",
     "output_type": "stream",
     "text": [
      "{'accuracy': 0.503099173553719, 'total_time_in_seconds': 44.71334918499997, 'samples_per_second': 21.649015733420747, 'latency_in_seconds': 0.04619147643078509}\n"
     ]
    }
   ],
   "source": [
    "# openlm-research/open_llama_3b_v2\n",
    "\n",
    "eval_results = task_evaluator.compute(\n",
    "    model_or_pipeline=\"openlm-research/open_llama_3b_v2\",\n",
    "    input_column = \"sentence\",\n",
    "    label_column = \"label\",\n",
    "    data=data,\n",
    "    metric= metrics,\n",
    "    label_mapping={\"LABEL_0\": 0, \"LABEL_1\": 1, \"LABEL_2\": 2}\n",
    ")\n",
    "\n",
    "results.append(eval_results)\n",
    "print(eval_results)"
   ]
  },
  {
   "cell_type": "code",
   "execution_count": 23,
   "id": "689f36e2-19c7-481f-9d98-1ec6d225488a",
   "metadata": {},
   "outputs": [
    {
     "data": {
      "text/html": [
       "<div>\n",
       "<style scoped>\n",
       "    .dataframe tbody tr th:only-of-type {\n",
       "        vertical-align: middle;\n",
       "    }\n",
       "\n",
       "    .dataframe tbody tr th {\n",
       "        vertical-align: top;\n",
       "    }\n",
       "\n",
       "    .dataframe thead th {\n",
       "        text-align: right;\n",
       "    }\n",
       "</style>\n",
       "<table border=\"1\" class=\"dataframe\">\n",
       "  <thead>\n",
       "    <tr style=\"text-align: right;\">\n",
       "      <th></th>\n",
       "      <th>accuracy</th>\n",
       "      <th>total_time_in_seconds</th>\n",
       "      <th>samples_per_second</th>\n",
       "      <th>latency_in_seconds</th>\n",
       "    </tr>\n",
       "  </thead>\n",
       "  <tbody>\n",
       "    <tr>\n",
       "      <th>distilbert-base-uncased</th>\n",
       "      <td>0.517562</td>\n",
       "      <td>9.262309</td>\n",
       "      <td>104.509579</td>\n",
       "      <td>0.009569</td>\n",
       "    </tr>\n",
       "    <tr>\n",
       "      <th>IngeniousArtist/distilbert-finance</th>\n",
       "      <td>0.738636</td>\n",
       "      <td>6.485632</td>\n",
       "      <td>149.253003</td>\n",
       "      <td>0.006700</td>\n",
       "    </tr>\n",
       "    <tr>\n",
       "      <th>yiyanghkust/finbert-tone</th>\n",
       "      <td>0.775826</td>\n",
       "      <td>11.124605</td>\n",
       "      <td>87.014329</td>\n",
       "      <td>0.011492</td>\n",
       "    </tr>\n",
       "    <tr>\n",
       "      <th>cardiffnlp/twitter-roberta-base-sentiment-latest</th>\n",
       "      <td>0.591942</td>\n",
       "      <td>11.394609</td>\n",
       "      <td>84.952456</td>\n",
       "      <td>0.011771</td>\n",
       "    </tr>\n",
       "    <tr>\n",
       "      <th>ProsusAI/finbert</th>\n",
       "      <td>0.885331</td>\n",
       "      <td>11.229224</td>\n",
       "      <td>86.203644</td>\n",
       "      <td>0.011600</td>\n",
       "    </tr>\n",
       "    <tr>\n",
       "      <th>stabilityai/stablelm-base-alpha-3b</th>\n",
       "      <td>0.385331</td>\n",
       "      <td>53.113898</td>\n",
       "      <td>18.224985</td>\n",
       "      <td>0.054870</td>\n",
       "    </tr>\n",
       "    <tr>\n",
       "      <th>IngeniousArtist/stablelm-3b-finance</th>\n",
       "      <td>0.085744</td>\n",
       "      <td>46.646755</td>\n",
       "      <td>20.751711</td>\n",
       "      <td>0.048189</td>\n",
       "    </tr>\n",
       "    <tr>\n",
       "      <th>CobraMamba/mamba-gpt-3b-v3</th>\n",
       "      <td>0.463843</td>\n",
       "      <td>45.843731</td>\n",
       "      <td>21.115210</td>\n",
       "      <td>0.047359</td>\n",
       "    </tr>\n",
       "    <tr>\n",
       "      <th>bigscience/bloom-3b</th>\n",
       "      <td>0.382231</td>\n",
       "      <td>38.641203</td>\n",
       "      <td>25.050980</td>\n",
       "      <td>0.039919</td>\n",
       "    </tr>\n",
       "    <tr>\n",
       "      <th>facebook/opt-2.7b</th>\n",
       "      <td>0.412190</td>\n",
       "      <td>39.331379</td>\n",
       "      <td>24.611392</td>\n",
       "      <td>0.040632</td>\n",
       "    </tr>\n",
       "    <tr>\n",
       "      <th>EleutherAI/gpt-neo-2.7B</th>\n",
       "      <td>0.503099</td>\n",
       "      <td>42.371457</td>\n",
       "      <td>22.845568</td>\n",
       "      <td>0.043772</td>\n",
       "    </tr>\n",
       "    <tr>\n",
       "      <th>openlm-research/open_llama_3b_v2</th>\n",
       "      <td>0.503099</td>\n",
       "      <td>44.713349</td>\n",
       "      <td>21.649016</td>\n",
       "      <td>0.046191</td>\n",
       "    </tr>\n",
       "  </tbody>\n",
       "</table>\n",
       "</div>"
      ],
      "text/plain": [
       "                                                  accuracy  \\\n",
       "distilbert-base-uncased                           0.517562   \n",
       "IngeniousArtist/distilbert-finance                0.738636   \n",
       "yiyanghkust/finbert-tone                          0.775826   \n",
       "cardiffnlp/twitter-roberta-base-sentiment-latest  0.591942   \n",
       "ProsusAI/finbert                                  0.885331   \n",
       "stabilityai/stablelm-base-alpha-3b                0.385331   \n",
       "IngeniousArtist/stablelm-3b-finance               0.085744   \n",
       "CobraMamba/mamba-gpt-3b-v3                        0.463843   \n",
       "bigscience/bloom-3b                               0.382231   \n",
       "facebook/opt-2.7b                                 0.412190   \n",
       "EleutherAI/gpt-neo-2.7B                           0.503099   \n",
       "openlm-research/open_llama_3b_v2                  0.503099   \n",
       "\n",
       "                                                  total_time_in_seconds  \\\n",
       "distilbert-base-uncased                                        9.262309   \n",
       "IngeniousArtist/distilbert-finance                             6.485632   \n",
       "yiyanghkust/finbert-tone                                      11.124605   \n",
       "cardiffnlp/twitter-roberta-base-sentiment-latest              11.394609   \n",
       "ProsusAI/finbert                                              11.229224   \n",
       "stabilityai/stablelm-base-alpha-3b                            53.113898   \n",
       "IngeniousArtist/stablelm-3b-finance                           46.646755   \n",
       "CobraMamba/mamba-gpt-3b-v3                                    45.843731   \n",
       "bigscience/bloom-3b                                           38.641203   \n",
       "facebook/opt-2.7b                                             39.331379   \n",
       "EleutherAI/gpt-neo-2.7B                                       42.371457   \n",
       "openlm-research/open_llama_3b_v2                              44.713349   \n",
       "\n",
       "                                                  samples_per_second  \\\n",
       "distilbert-base-uncased                                   104.509579   \n",
       "IngeniousArtist/distilbert-finance                        149.253003   \n",
       "yiyanghkust/finbert-tone                                   87.014329   \n",
       "cardiffnlp/twitter-roberta-base-sentiment-latest           84.952456   \n",
       "ProsusAI/finbert                                           86.203644   \n",
       "stabilityai/stablelm-base-alpha-3b                         18.224985   \n",
       "IngeniousArtist/stablelm-3b-finance                        20.751711   \n",
       "CobraMamba/mamba-gpt-3b-v3                                 21.115210   \n",
       "bigscience/bloom-3b                                        25.050980   \n",
       "facebook/opt-2.7b                                          24.611392   \n",
       "EleutherAI/gpt-neo-2.7B                                    22.845568   \n",
       "openlm-research/open_llama_3b_v2                           21.649016   \n",
       "\n",
       "                                                  latency_in_seconds  \n",
       "distilbert-base-uncased                                     0.009569  \n",
       "IngeniousArtist/distilbert-finance                          0.006700  \n",
       "yiyanghkust/finbert-tone                                    0.011492  \n",
       "cardiffnlp/twitter-roberta-base-sentiment-latest            0.011771  \n",
       "ProsusAI/finbert                                            0.011600  \n",
       "stabilityai/stablelm-base-alpha-3b                          0.054870  \n",
       "IngeniousArtist/stablelm-3b-finance                         0.048189  \n",
       "CobraMamba/mamba-gpt-3b-v3                                  0.047359  \n",
       "bigscience/bloom-3b                                         0.039919  \n",
       "facebook/opt-2.7b                                           0.040632  \n",
       "EleutherAI/gpt-neo-2.7B                                     0.043772  \n",
       "openlm-research/open_llama_3b_v2                            0.046191  "
      ]
     },
     "execution_count": 23,
     "metadata": {},
     "output_type": "execute_result"
    }
   ],
   "source": [
    "# Create Dataframe\n",
    "\n",
    "df = pd.DataFrame(results, index=models)\n",
    "df[[\"accuracy\", \"total_time_in_seconds\", \"samples_per_second\", \"latency_in_seconds\"]]"
   ]
  },
  {
   "cell_type": "code",
   "execution_count": 24,
   "id": "c715e1ce-a616-4432-a5c3-9fc20c59d335",
   "metadata": {
    "tags": []
   },
   "outputs": [
    {
     "data": {
      "image/png": "[encoded data removed]",
      "text/plain": [
       "<Figure size 640x480 with 5 Axes>"
      ]
     },
     "metadata": {},
     "output_type": "display_data"
    }
   ],
   "source": [
    "# Visualize Results\n",
    "\n",
    "plot = radar_plot(data=results, model_names=models, invert_range=[\"latency_in_seconds\"])\n",
    "plot.show()"
   ]
  }
 ],
 "metadata": {
  "availableInstances": [
   {
    "_defaultOrder": 0,
    "_isFastLaunch": true,
    "category": "General purpose",
    "gpuNum": 0,
    "hideHardwareSpecs": false,
    "memoryGiB": 4,
    "name": "ml.t3.medium",
    "vcpuNum": 2
   },
   {
    "_defaultOrder": 1,
    "_isFastLaunch": false,
    "category": "General purpose",
    "gpuNum": 0,
    "hideHardwareSpecs": false,
    "memoryGiB": 8,
    "name": "ml.t3.large",
    "vcpuNum": 2
   },
   {
    "_defaultOrder": 2,
    "_isFastLaunch": false,
    "category": "General purpose",
    "gpuNum": 0,
    "hideHardwareSpecs": false,
    "memoryGiB": 16,
    "name": "ml.t3.xlarge",
    "vcpuNum": 4
   },
   {
    "_defaultOrder": 3,
    "_isFastLaunch": false,
    "category": "General purpose",
    "gpuNum": 0,
    "hideHardwareSpecs": false,
    "memoryGiB": 32,
    "name": "ml.t3.2xlarge",
    "vcpuNum": 8
   },
   {
    "_defaultOrder": 4,
    "_isFastLaunch": true,
    "category": "General purpose",
    "gpuNum": 0,
    "hideHardwareSpecs": false,
    "memoryGiB": 8,
    "name": "ml.m5.large",
    "vcpuNum": 2
   },
   {
    "_defaultOrder": 5,
    "_isFastLaunch": false,
    "category": "General purpose",
    "gpuNum": 0,
    "hideHardwareSpecs": false,
    "memoryGiB": 16,
    "name": "ml.m5.xlarge",
    "vcpuNum": 4
   },
   {
    "_defaultOrder": 6,
    "_isFastLaunch": false,
    "category": "General purpose",
    "gpuNum": 0,
    "hideHardwareSpecs": false,
    "memoryGiB": 32,
    "name": "ml.m5.2xlarge",
    "vcpuNum": 8
   },
   {
    "_defaultOrder": 7,
    "_isFastLaunch": false,
    "category": "General purpose",
    "gpuNum": 0,
    "hideHardwareSpecs": false,
    "memoryGiB": 64,
    "name": "ml.m5.4xlarge",
    "vcpuNum": 16
   },
   {
    "_defaultOrder": 8,
    "_isFastLaunch": false,
    "category": "General purpose",
    "gpuNum": 0,
    "hideHardwareSpecs": false,
    "memoryGiB": 128,
    "name": "ml.m5.8xlarge",
    "vcpuNum": 32
   },
   {
    "_defaultOrder": 9,
    "_isFastLaunch": false,
    "category": "General purpose",
    "gpuNum": 0,
    "hideHardwareSpecs": false,
    "memoryGiB": 192,
    "name": "ml.m5.12xlarge",
    "vcpuNum": 48
   },
   {
    "_defaultOrder": 10,
    "_isFastLaunch": false,
    "category": "General purpose",
    "gpuNum": 0,
    "hideHardwareSpecs": false,
    "memoryGiB": 256,
    "name": "ml.m5.16xlarge",
    "vcpuNum": 64
   },
   {
    "_defaultOrder": 11,
    "_isFastLaunch": false,
    "category": "General purpose",
    "gpuNum": 0,
    "hideHardwareSpecs": false,
    "memoryGiB": 384,
    "name": "ml.m5.24xlarge",
    "vcpuNum": 96
   },
   {
    "_defaultOrder": 12,
    "_isFastLaunch": false,
    "category": "General purpose",
    "gpuNum": 0,
    "hideHardwareSpecs": false,
    "memoryGiB": 8,
    "name": "ml.m5d.large",
    "vcpuNum": 2
   },
   {
    "_defaultOrder": 13,
    "_isFastLaunch": false,
    "category": "General purpose",
    "gpuNum": 0,
    "hideHardwareSpecs": false,
    "memoryGiB": 16,
    "name": "ml.m5d.xlarge",
    "vcpuNum": 4
   },
   {
    "_defaultOrder": 14,
    "_isFastLaunch": false,
    "category": "General purpose",
    "gpuNum": 0,
    "hideHardwareSpecs": false,
    "memoryGiB": 32,
    "name": "ml.m5d.2xlarge",
    "vcpuNum": 8
   },
   {
    "_defaultOrder": 15,
    "_isFastLaunch": false,
    "category": "General purpose",
    "gpuNum": 0,
    "hideHardwareSpecs": false,
    "memoryGiB": 64,
    "name": "ml.m5d.4xlarge",
    "vcpuNum": 16
   },
   {
    "_defaultOrder": 16,
    "_isFastLaunch": false,
    "category": "General purpose",
    "gpuNum": 0,
    "hideHardwareSpecs": false,
    "memoryGiB": 128,
    "name": "ml.m5d.8xlarge",
    "vcpuNum": 32
   },
   {
    "_defaultOrder": 17,
    "_isFastLaunch": false,
    "category": "General purpose",
    "gpuNum": 0,
    "hideHardwareSpecs": false,
    "memoryGiB": 192,
    "name": "ml.m5d.12xlarge",
    "vcpuNum": 48
   },
   {
    "_defaultOrder": 18,
    "_isFastLaunch": false,
    "category": "General purpose",
    "gpuNum": 0,
    "hideHardwareSpecs": false,
    "memoryGiB": 256,
    "name": "ml.m5d.16xlarge",
    "vcpuNum": 64
   },
   {
    "_defaultOrder": 19,
    "_isFastLaunch": false,
    "category": "General purpose",
    "gpuNum": 0,
    "hideHardwareSpecs": false,
    "memoryGiB": 384,
    "name": "ml.m5d.24xlarge",
    "vcpuNum": 96
   },
   {
    "_defaultOrder": 20,
    "_isFastLaunch": false,
    "category": "General purpose",
    "gpuNum": 0,
    "hideHardwareSpecs": true,
    "memoryGiB": 0,
    "name": "ml.geospatial.interactive",
    "supportedImageNames": [
     "sagemaker-geospatial-v1-0"
    ],
    "vcpuNum": 0
   },
   {
    "_defaultOrder": 21,
    "_isFastLaunch": true,
    "category": "Compute optimized",
    "gpuNum": 0,
    "hideHardwareSpecs": false,
    "memoryGiB": 4,
    "name": "ml.c5.large",
    "vcpuNum": 2
   },
   {
    "_defaultOrder": 22,
    "_isFastLaunch": false,
    "category": "Compute optimized",
    "gpuNum": 0,
    "hideHardwareSpecs": false,
    "memoryGiB": 8,
    "name": "ml.c5.xlarge",
    "vcpuNum": 4
   },
   {
    "_defaultOrder": 23,
    "_isFastLaunch": false,
    "category": "Compute optimized",
    "gpuNum": 0,
    "hideHardwareSpecs": false,
    "memoryGiB": 16,
    "name": "ml.c5.2xlarge",
    "vcpuNum": 8
   },
   {
    "_defaultOrder": 24,
    "_isFastLaunch": false,
    "category": "Compute optimized",
    "gpuNum": 0,
    "hideHardwareSpecs": false,
    "memoryGiB": 32,
    "name": "ml.c5.4xlarge",
    "vcpuNum": 16
   },
   {
    "_defaultOrder": 25,
    "_isFastLaunch": false,
    "category": "Compute optimized",
    "gpuNum": 0,
    "hideHardwareSpecs": false,
    "memoryGiB": 72,
    "name": "ml.c5.9xlarge",
    "vcpuNum": 36
   },
   {
    "_defaultOrder": 26,
    "_isFastLaunch": false,
    "category": "Compute optimized",
    "gpuNum": 0,
    "hideHardwareSpecs": false,
    "memoryGiB": 96,
    "name": "ml.c5.12xlarge",
    "vcpuNum": 48
   },
   {
    "_defaultOrder": 27,
    "_isFastLaunch": false,
    "category": "Compute optimized",
    "gpuNum": 0,
    "hideHardwareSpecs": false,
    "memoryGiB": 144,
    "name": "ml.c5.18xlarge",
    "vcpuNum": 72
   },
   {
    "_defaultOrder": 28,
    "_isFastLaunch": false,
    "category": "Compute optimized",
    "gpuNum": 0,
    "hideHardwareSpecs": false,
    "memoryGiB": 192,
    "name": "ml.c5.24xlarge",
    "vcpuNum": 96
   },
   {
    "_defaultOrder": 29,
    "_isFastLaunch": true,
    "category": "Accelerated computing",
    "gpuNum": 1,
    "hideHardwareSpecs": false,
    "memoryGiB": 16,
    "name": "ml.g4dn.xlarge",
    "vcpuNum": 4
   },
   {
    "_defaultOrder": 30,
    "_isFastLaunch": false,
    "category": "Accelerated computing",
    "gpuNum": 1,
    "hideHardwareSpecs": false,
    "memoryGiB": 32,
    "name": "ml.g4dn.2xlarge",
    "vcpuNum": 8
   },
   {
    "_defaultOrder": 31,
    "_isFastLaunch": false,
    "category": "Accelerated computing",
    "gpuNum": 1,
    "hideHardwareSpecs": false,
    "memoryGiB": 64,
    "name": "ml.g4dn.4xlarge",
    "vcpuNum": 16
   },
   {
    "_defaultOrder": 32,
    "_isFastLaunch": false,
    "category": "Accelerated computing",
    "gpuNum": 1,
    "hideHardwareSpecs": false,
    "memoryGiB": 128,
    "name": "ml.g4dn.8xlarge",
    "vcpuNum": 32
   },
   {
    "_defaultOrder": 33,
    "_isFastLaunch": false,
    "category": "Accelerated computing",
    "gpuNum": 4,
    "hideHardwareSpecs": false,
    "memoryGiB": 192,
    "name": "ml.g4dn.12xlarge",
    "vcpuNum": 48
   },
   {
    "_defaultOrder": 34,
    "_isFastLaunch": false,
    "category": "Accelerated computing",
    "gpuNum": 1,
    "hideHardwareSpecs": false,
    "memoryGiB": 256,
    "name": "ml.g4dn.16xlarge",
    "vcpuNum": 64
   },
   {
    "_defaultOrder": 35,
    "_isFastLaunch": false,
    "category": "Accelerated computing",
    "gpuNum": 1,
    "hideHardwareSpecs": false,
    "memoryGiB": 61,
    "name": "ml.p3.2xlarge",
    "vcpuNum": 8
   },
   {
    "_defaultOrder": 36,
    "_isFastLaunch": false,
    "category": "Accelerated computing",
    "gpuNum": 4,
    "hideHardwareSpecs": false,
    "memoryGiB": 244,
    "name": "ml.p3.8xlarge",
    "vcpuNum": 32
   },
   {
    "_defaultOrder": 37,
    "_isFastLaunch": false,
    "category": "Accelerated computing",
    "gpuNum": 8,
    "hideHardwareSpecs": false,
    "memoryGiB": 488,
    "name": "ml.p3.16xlarge",
    "vcpuNum": 64
   },
   {
    "_defaultOrder": 38,
    "_isFastLaunch": false,
    "category": "Accelerated computing",
    "gpuNum": 8,
    "hideHardwareSpecs": false,
    "memoryGiB": 768,
    "name": "ml.p3dn.24xlarge",
    "vcpuNum": 96
   },
   {
    "_defaultOrder": 39,
    "_isFastLaunch": false,
    "category": "Memory Optimized",
    "gpuNum": 0,
    "hideHardwareSpecs": false,
    "memoryGiB": 16,
    "name": "ml.r5.large",
    "vcpuNum": 2
   },
   {
    "_defaultOrder": 40,
    "_isFastLaunch": false,
    "category": "Memory Optimized",
    "gpuNum": 0,
    "hideHardwareSpecs": false,
    "memoryGiB": 32,
    "name": "ml.r5.xlarge",
    "vcpuNum": 4
   },
   {
    "_defaultOrder": 41,
    "_isFastLaunch": false,
    "category": "Memory Optimized",
    "gpuNum": 0,
    "hideHardwareSpecs": false,
    "memoryGiB": 64,
    "name": "ml.r5.2xlarge",
    "vcpuNum": 8
   },
   {
    "_defaultOrder": 42,
    "_isFastLaunch": false,
    "category": "Memory Optimized",
    "gpuNum": 0,
    "hideHardwareSpecs": false,
    "memoryGiB": 128,
    "name": "ml.r5.4xlarge",
    "vcpuNum": 16
   },
   {
    "_defaultOrder": 43,
    "_isFastLaunch": false,
    "category": "Memory Optimized",
    "gpuNum": 0,
    "hideHardwareSpecs": false,
    "memoryGiB": 256,
    "name": "ml.r5.8xlarge",
    "vcpuNum": 32
   },
   {
    "_defaultOrder": 44,
    "_isFastLaunch": false,
    "category": "Memory Optimized",
    "gpuNum": 0,
    "hideHardwareSpecs": false,
    "memoryGiB": 384,
    "name": "ml.r5.12xlarge",
    "vcpuNum": 48
   },
   {
    "_defaultOrder": 45,
    "_isFastLaunch": false,
    "category": "Memory Optimized",
    "gpuNum": 0,
    "hideHardwareSpecs": false,
    "memoryGiB": 512,
    "name": "ml.r5.16xlarge",
    "vcpuNum": 64
   },
   {
    "_defaultOrder": 46,
    "_isFastLaunch": false,
    "category": "Memory Optimized",
    "gpuNum": 0,
    "hideHardwareSpecs": false,
    "memoryGiB": 768,
    "name": "ml.r5.24xlarge",
    "vcpuNum": 96
   },
   {
    "_defaultOrder": 47,
    "_isFastLaunch": false,
    "category": "Accelerated computing",
    "gpuNum": 1,
    "hideHardwareSpecs": false,
    "memoryGiB": 16,
    "name": "ml.g5.xlarge",
    "vcpuNum": 4
   },
   {
    "_defaultOrder": 48,
    "_isFastLaunch": false,
    "category": "Accelerated computing",
    "gpuNum": 1,
    "hideHardwareSpecs": false,
    "memoryGiB": 32,
    "name": "ml.g5.2xlarge",
    "vcpuNum": 8
   },
   {
    "_defaultOrder": 49,
    "_isFastLaunch": false,
    "category": "Accelerated computing",
    "gpuNum": 1,
    "hideHardwareSpecs": false,
    "memoryGiB": 64,
    "name": "ml.g5.4xlarge",
    "vcpuNum": 16
   },
   {
    "_defaultOrder": 50,
    "_isFastLaunch": false,
    "category": "Accelerated computing",
    "gpuNum": 1,
    "hideHardwareSpecs": false,
    "memoryGiB": 128,
    "name": "ml.g5.8xlarge",
    "vcpuNum": 32
   },
   {
    "_defaultOrder": 51,
    "_isFastLaunch": false,
    "category": "Accelerated computing",
    "gpuNum": 1,
    "hideHardwareSpecs": false,
    "memoryGiB": 256,
    "name": "ml.g5.16xlarge",
    "vcpuNum": 64
   },
   {
    "_defaultOrder": 52,
    "_isFastLaunch": false,
    "category": "Accelerated computing",
    "gpuNum": 4,
    "hideHardwareSpecs": false,
    "memoryGiB": 192,
    "name": "ml.g5.12xlarge",
    "vcpuNum": 48
   },
   {
    "_defaultOrder": 53,
    "_isFastLaunch": false,
    "category": "Accelerated computing",
    "gpuNum": 4,
    "hideHardwareSpecs": false,
    "memoryGiB": 384,
    "name": "ml.g5.24xlarge",
    "vcpuNum": 96
   },
   {
    "_defaultOrder": 54,
    "_isFastLaunch": false,
    "category": "Accelerated computing",
    "gpuNum": 8,
    "hideHardwareSpecs": false,
    "memoryGiB": 768,
    "name": "ml.g5.48xlarge",
    "vcpuNum": 192
   },
   {
    "_defaultOrder": 55,
    "_isFastLaunch": false,
    "category": "Accelerated computing",
    "gpuNum": 8,
    "hideHardwareSpecs": false,
    "memoryGiB": 1152,
    "name": "ml.p4d.24xlarge",
    "vcpuNum": 96
   },
   {
    "_defaultOrder": 56,
    "_isFastLaunch": false,
    "category": "Accelerated computing",
    "gpuNum": 8,
    "hideHardwareSpecs": false,
    "memoryGiB": 1152,
    "name": "ml.p4de.24xlarge",
    "vcpuNum": 96
   }
  ],
  "kernelspec": {
   "display_name": "Python 3 (Data Science 3.0)",
   "language": "python",
   "name": "python3__SAGEMAKER_INTERNAL__arn:aws:sagemaker:eu-west-2:712779665605:image/sagemaker-data-science-310-v1"
  },
  "language_info": {
   "codemirror_mode": {
    "name": "ipython",
    "version": 3
   },
   "file_extension": ".py",
   "mimetype": "text/x-python",
   "name": "python",
   "nbconvert_exporter": "python",
   "pygments_lexer": "ipython3",
   "version": "3.10.6"
  }
 },
 "nbformat": 4,
 "nbformat_minor": 5
}
